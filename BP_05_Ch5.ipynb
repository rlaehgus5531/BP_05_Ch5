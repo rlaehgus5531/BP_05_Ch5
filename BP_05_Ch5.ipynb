{
  "nbformat": 4,
  "nbformat_minor": 0,
  "metadata": {
    "colab": {
      "provenance": [],
      "authorship_tag": "ABX9TyPBY1fNEKTxqTICZrJ95ySb",
      "include_colab_link": true
    },
    "kernelspec": {
      "name": "python3",
      "display_name": "Python 3"
    },
    "language_info": {
      "name": "python"
    }
  },
  "cells": [
    {
      "cell_type": "markdown",
      "metadata": {
        "id": "view-in-github",
        "colab_type": "text"
      },
      "source": [
        "<a href=\"https://colab.research.google.com/github/rlaehgus5531/BP_05_Ch5/blob/main/BP_05_Ch5.ipynb\" target=\"_parent\"><img src=\"https://colab.research.google.com/assets/colab-badge.svg\" alt=\"Open In Colab\"/></a>"
      ]
    },
    {
      "cell_type": "markdown",
      "source": [
        "1.다음프로그램의 출력은 무엇인가?"
      ],
      "metadata": {
        "id": "3hHF7V7QfBVB"
      }
    },
    {
      "cell_type": "code",
      "execution_count": 2,
      "metadata": {
        "colab": {
          "base_uri": "https://localhost:8080/"
        },
        "id": "4oGceGSWe0ks",
        "outputId": "ca81521e-9093-4a27-a6e3-87dfc16e40d8"
      },
      "outputs": [
        {
          "output_type": "stream",
          "name": "stdout",
          "text": [
            "20살이상\n"
          ]
        }
      ],
      "source": [
        "age = 20\n",
        "if age <20:\n",
        "  print('20살미만')\n",
        "else:\n",
        "  print('20살이상')"
      ]
    },
    {
      "cell_type": "markdown",
      "source": [
        "2.1번 문제에서 age가 30살 이상이고 50이하인것을 체크하려면 어떻게 하여야하는가?"
      ],
      "metadata": {
        "id": "ggf1PpCagAO3"
      }
    },
    {
      "cell_type": "code",
      "source": [
        "age = 20\n",
        "if age >= 30 and age<=50:\n",
        "  print('30살이상이고 50살이하')\n",
        "else:\n",
        "  print('나머지')"
      ],
      "metadata": {
        "colab": {
          "base_uri": "https://localhost:8080/"
        },
        "id": "KCbpePVIgHhU",
        "outputId": "327af0a3-54ee-4693-bc07-e38d8f0ce4a4"
      },
      "execution_count": 7,
      "outputs": [
        {
          "output_type": "stream",
          "name": "stdout",
          "text": [
            "나머지\n"
          ]
        }
      ]
    },
    {
      "cell_type": "markdown",
      "source": [
        "3.사용자에게 현재 온도를 질문하고 온도가 25도 이상이면 반바지를추천하고 25도 미만이면 긴바지를 추천하는 프로그램을 작성해보자"
      ],
      "metadata": {
        "id": "fJM6IRwqgfT4"
      }
    },
    {
      "cell_type": "code",
      "source": [
        "temp = int(input(\"현재온도를 입력하시오\"))\n",
        "if temp >= 25:\n",
        "  print(\"반바지를 입으세요\")\n",
        "else:\n",
        "  print(\"긴바지를 입으세요\")"
      ],
      "metadata": {
        "colab": {
          "base_uri": "https://localhost:8080/"
        },
        "id": "xlNPOj9vgrg3",
        "outputId": "597902c8-b413-462f-e3d6-5ebe08c24bd9"
      },
      "execution_count": 9,
      "outputs": [
        {
          "output_type": "stream",
          "name": "stdout",
          "text": [
            "현재온도를 입력하시오10\n",
            "긴바지를 입으세요\n"
          ]
        }
      ]
    },
    {
      "cell_type": "markdown",
      "source": [
        "4.학생의 시험점수를 물어보고 시혐 점수가 90점 이상이면 A. 80점 이상이면 B, 70점 이상이면 C, 60점 이상이면 D, 그외의 점수이면 F를 학점으로 주는 프로그램을 작성 하라"
      ],
      "metadata": {
        "id": "3-REpwTlhAso"
      }
    },
    {
      "cell_type": "code",
      "source": [
        "score = int(input(\"성적을 입력하시오\"))\n",
        "if score >= 90:\n",
        "  print(\"A학점입니다\")\n",
        "elif score >= 98:\n",
        "  print(\"B학점입니다\")\n",
        "elif score >= 70:\n",
        "  print(\"C학점입니다\")\n",
        "elif score >= 60:\n",
        "  print(\"D학점입니다\")\n",
        "else:\n",
        "  print(\"F학점입니다\")"
      ],
      "metadata": {
        "colab": {
          "base_uri": "https://localhost:8080/"
        },
        "id": "xwrELOhchCLf",
        "outputId": "cd8aa561-bf22-4df5-e6e5-bcb9a0966f35"
      },
      "execution_count": 13,
      "outputs": [
        {
          "output_type": "stream",
          "name": "stdout",
          "text": [
            "성적을 입력하시오99\n",
            "A학점입니다\n"
          ]
        }
      ]
    },
    {
      "cell_type": "markdown",
      "source": [
        "5.난수를 사용하여 1부터 100사이의 숫자릍 사용하는뺄셈 문제를 생성하고 사용자에게 물어본 후에 사용자의 답변이 올바른지를 검사하는 프로그램을 작성하라"
      ],
      "metadata": {
        "id": "4yB1dTOXh9MK"
      }
    },
    {
      "cell_type": "code",
      "source": [
        "import random\n",
        "x = random.randint(1,100)\n",
        "y = random.randint(1,100)\n",
        "ans = int(input(str(x)+\"-\"+str(y)+\"=\"))\n",
        "if ans == x -y:\n",
        "  print(\"맞았습니다\")\n",
        "else:\n",
        "  print(\"틀렸습니다\")"
      ],
      "metadata": {
        "colab": {
          "base_uri": "https://localhost:8080/"
        },
        "id": "K7WNKFq_h_D7",
        "outputId": "cad9d4c4-6f72-4eff-df95-9ef936f46eb4"
      },
      "execution_count": 15,
      "outputs": [
        {
          "output_type": "stream",
          "name": "stdout",
          "text": [
            "90-97=-7\n",
            "맞았습니다\n"
          ]
        }
      ]
    },
    {
      "cell_type": "markdown",
      "source": [
        "6.사용자로부터 정수를받아서 이 정수가 2와3으로 나누어 멀어질 수 있는지를 출력하라"
      ],
      "metadata": {
        "id": "JR4F5kPpiokT"
      }
    },
    {
      "cell_type": "code",
      "source": [
        "n = int(input(\"정수를입력하시오\"))\n",
        "if n%2==0 and n%3==0:\n",
        "  print(\"2와3으로 나누어 떨어집니다\")\n",
        "else:\n",
        "  print(\"2와3으로 나누어 떨어지지않습니다\")"
      ],
      "metadata": {
        "colab": {
          "base_uri": "https://localhost:8080/"
        },
        "id": "DlssxVJgiqvD",
        "outputId": "f24b9452-fc10-4282-c3df-2d8bdf82ffbd"
      },
      "execution_count": 16,
      "outputs": [
        {
          "output_type": "stream",
          "name": "stdout",
          "text": [
            "정수를입력하시오6\n",
            "2와3으로 나누어 떨어집니다\n"
          ]
        }
      ]
    },
    {
      "cell_type": "markdown",
      "source": [
        "7.2자리 숫자로 이루어진 복권이 있다 사용자가 가지고 있는 복권 번호가 2자리 모두 일치하면 100만원을 받는다 2자리 중에서 하나만 일치하면 50만원을 받는다 하나도 일 치하지 않으면 상금을 없다 복귄 당첨 번호는 난수로 생성히고 사용자의 입력에 따라서 상금이 얼마인지를 출력하는 프로그램을 작성하라"
      ],
      "metadata": {
        "id": "fNQ8EAccjEdt"
      }
    },
    {
      "cell_type": "code",
      "source": [
        "import random\n",
        "solution = random.randint(0,99)\n",
        "user = int(input(\"복권번호를 입력하시오(0에서99사이):\"))\n",
        "digit1 = solution // 10\n",
        "digit2 = solution % 10\n",
        "u_digit1 = user // 10\n",
        "u_digit2 = user % 10\n",
        "print(\"당첨번호는\", solution, \"입니다.\")"
      ],
      "metadata": {
        "colab": {
          "base_uri": "https://localhost:8080/"
        },
        "id": "TZh8HWLzjG6-",
        "outputId": "8d0c3824-477c-4b51-ad8b-3bfe47444fac"
      },
      "execution_count": 17,
      "outputs": [
        {
          "output_type": "stream",
          "name": "stdout",
          "text": [
            "복권번호를 입력하시오(0에서99사이):27\n",
            "당첨번호는 85 입니다.\n"
          ]
        }
      ]
    },
    {
      "cell_type": "markdown",
      "source": [
        "8.사용자로부터 2개의 원에 대한 정보를 받아서 화면에 원을 그런 후에 조건문을 사용하여 큰 원 안에 작은 원이 포함되는지를 판단하는 프로그램을 작성하라"
      ],
      "metadata": {
        "id": "sEQ4jFAzjwTD"
      }
    },
    {
      "cell_type": "code",
      "source": [
        "import turtle\n",
        "t = turtle.Turtle()\n",
        "t.shape(\"turtle\")\n",
        "x1 = int(input(\"큰 원의 중심좌표 x1: \"))\n",
        "y1 = int(input(\"큰 원의 중심좌표 y1: \"))\n",
        "r1 = int(input(\"큰 원의 반지름: \"))\n",
        "x2 = int(input(\"작은 원의 중심좌표 x2: \"))\n",
        "y2 = int(input(\"작은 원의 중심좌표 y2: \"))\n",
        "r2 = int(input(\"작은 원의 반지름: \"))\n",
        "t.penup()\n",
        "t.goto(x1,y1)\n",
        "t.pendown()\n",
        "t.circle(r1)\n",
        "t.penup()\n",
        "t.goto(x2,y2)\n",
        "t.pendown()\n",
        "t.circle(r2)\n",
        "dist = ((x1 - x2) * (x1 - x2) + (y1 - y2) * (y1 - y2)) ** 0.5\n",
        "if dist <= r1-r2:\n",
        "  turtle.write(\"두번째 원이 첫번째 원내부에 있습니다\")\n",
        "elif dist <= r1 + r2:\n",
        "  turtle.write(\"두번재원이 첫번째원과 겹칩니다\")\n",
        "else:\n",
        "  turtle.write(\"두번째원이 첫번째원과 겹치지 않습니다\")"
      ],
      "metadata": {
        "id": "HZW0qvUfj1Mr"
      },
      "execution_count": null,
      "outputs": []
    }
  ]
}